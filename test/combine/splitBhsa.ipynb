{
 "cells": [
  {
   "cell_type": "code",
   "execution_count": 1,
   "id": "3f0a5ad5-9ce3-48d5-8fe0-4437d7318bcb",
   "metadata": {},
   "outputs": [],
   "source": [
    "%load_ext autoreload\n",
    "%autoreload 2"
   ]
  },
  {
   "cell_type": "markdown",
   "id": "bb02ff41-94d0-4bdf-8faa-773fcf4fb651",
   "metadata": {},
   "source": [
    "# Extract\n",
    "\n",
    "We extract volumes from a big dataset."
   ]
  },
  {
   "cell_type": "code",
   "execution_count": 2,
   "id": "bf56aa8a-3898-415e-8552-a07f426a305d",
   "metadata": {},
   "outputs": [],
   "source": [
    "import os\n",
    "from tf.fabric import Fabric\n",
    "from tf.compose import extract, combine\n",
    "from tf.core.helpers import unexpanduser"
   ]
  },
  {
   "cell_type": "code",
   "execution_count": 3,
   "id": "3f653f0b-f22c-4db2-8d5a-999382327ebc",
   "metadata": {},
   "outputs": [],
   "source": [
    "GH = os.path.expanduser(\"~/github\")\n",
    "BH = f\"{GH}/etcbc/bhsa\"\n",
    "VERSION = \"2021\"\n",
    "SOURCE = f\"{BH}/tf/{VERSION}\"\n",
    "TARGET = f\"{BH}/_local/tf/{VERSION}\""
   ]
  },
  {
   "cell_type": "markdown",
   "id": "71d8f474-ee2f-475e-bc94-6bf2a7dcf9ac",
   "metadata": {},
   "source": [
    "# Loading\n",
    "\n",
    "We load the dataset, and pass its api to the `extract()` function.\n",
    "\n",
    "If something goes wrong during the extraction, we can inspect the dataset without reloading it.\n",
    "\n",
    "In a normal scenario, we can just leave out this step. The `extract()` function will\n",
    "automatically load the dataset if no `api` argument is passed."
   ]
  },
  {
   "cell_type": "code",
   "execution_count": 4,
   "id": "1584b8fa-06c9-49f2-a484-895f4c33d398",
   "metadata": {},
   "outputs": [
    {
     "name": "stdout",
     "output_type": "stream",
     "text": [
      "This is Text-Fabric 8.5.14\n",
      "Api reference : https://annotation.github.io/text-fabric/tf/cheatsheet.html\n",
      "\n",
      "114 features found and 0 ignored\n",
      "  0.00s loading features ...\n",
      "   |     0.00s Dataset without structure sections in otext:no structure functions in the T-API\n",
      "  3.56s All features loaded/computed - for details use TF.loadLog()\n",
      "   |     0.00s Feature overview: 109 for nodes; 4 for edges; 1 configs; 8 computed\n",
      "  0.00s loading features ...\n",
      "  6.05s All additional features loaded - for details use TF.loadLog()\n"
     ]
    },
    {
     "data": {
      "text/plain": [
       "[('Computed',\n",
       "  'computed-data',\n",
       "  ('C Computed', 'Call AllComputeds', 'Cs ComputedString')),\n",
       " ('Features', 'edge-features', ('E Edge', 'Eall AllEdges', 'Es EdgeString')),\n",
       " ('Fabric', 'loading', ('TF',)),\n",
       " ('Locality', 'locality', ('L Locality',)),\n",
       " ('Nodes', 'navigating-nodes', ('N Nodes',)),\n",
       " ('Features',\n",
       "  'node-features',\n",
       "  ('F Feature', 'Fall AllFeatures', 'Fs FeatureString')),\n",
       " ('Search', 'search', ('S Search',)),\n",
       " ('Text', 'text', ('T Text',))]"
      ]
     },
     "execution_count": 4,
     "metadata": {},
     "output_type": "execute_result"
    }
   ],
   "source": [
    "TF = Fabric(locations=SOURCE)\n",
    "api = TF.loadAll()\n",
    "api.makeAvailableIn(globals())"
   ]
  },
  {
   "cell_type": "code",
   "execution_count": 9,
   "id": "37713625-e6c9-4fea-98ff-3aacd6b2a689",
   "metadata": {},
   "outputs": [],
   "source": [
    "VOLUMES = (\n",
    "    (\"Obadiah\", \"Nahum\", \"Haggai\", \"Habakkuk\", \"Jonah\", \"Micah\"),\n",
    "    (\"Malachi\", \"Joel\"),\n",
    "    (\"Ezra\",),\n",
    ")"
   ]
  },
  {
   "cell_type": "code",
   "execution_count": 11,
   "id": "4fcfda2f-200f-480f-be72-6712142b3348",
   "metadata": {},
   "outputs": [
    {
     "name": "stdout",
     "output_type": "stream",
     "text": [
      "Splitting dataset in 39 books:\n",
      "   |   book Genesis             : with    28763 slots\n",
      "   |   book Exodus              : with    23748 slots\n",
      "   |   book Leviticus           : with    17099 slots\n",
      "   |   book Numbers             : with    23188 slots\n",
      "   |   book Deuteronomy         : with    20127 slots\n",
      "   |   book Joshua              : with    14526 slots\n",
      "   |   book Judges              : with    14085 slots\n",
      "   |   book 1_Samuel            : with    18929 slots\n",
      "   |   book 2_Samuel            : with    15612 slots\n",
      "   |   book 1_Kings             : with    18685 slots\n",
      "   |   book 2_Kings             : with    17307 slots\n",
      "   |   book Isaiah              : with    22931 slots\n",
      "   |   book Jeremiah            : with    29736 slots\n",
      "   |   book Ezekiel             : with    26182 slots\n",
      "   |   book Hosea               : with     3146 slots\n",
      "   |   book Joel                : with     1318 slots\n",
      "   |   book Amos                : with     2780 slots\n",
      "   |   book Obadiah             : with      392 slots\n",
      "   |   book Jonah               : with      985 slots\n",
      "   |   book Micah               : with     1895 slots\n",
      "   |   book Nahum               : with      746 slots\n",
      "   |   book Habakkuk            : with      897 slots\n",
      "   |   book Zephaniah           : with     1037 slots\n",
      "   |   book Haggai              : with      877 slots\n",
      "   |   book Zechariah           : with     4471 slots\n",
      "   |   book Malachi             : with     1187 slots\n",
      "   |   book Psalms              : with    25371 slots\n",
      "   |   book Job                 : with    10912 slots\n",
      "   |   book Proverbs            : with     8859 slots\n",
      "   |   book Ruth                : with     1802 slots\n",
      "   |   book Song_of_songs       : with     1682 slots\n",
      "   |   book Ecclesiastes        : with     4233 slots\n",
      "   |   book Lamentations        : with     1945 slots\n",
      "   |   book Esther              : with     4621 slots\n",
      "   |   book Daniel              : with     8072 slots\n",
      "   |   book Ezra                : with     5268 slots\n",
      "   |   book Nehemiah            : with     7842 slots\n",
      "   |   book 1_Chronicles        : with    15564 slots\n",
      "   |   book 2_Chronicles        : with    19764 slots\n",
      "  0.15s books determined\n",
      "  0.15s Check volumes ...\n",
      "  0.19s volumes ok\n",
      "  0.19s Distribute nodes over volumes ...\n",
      "   |     0.00s volume Obadiah-Nahum-Haggai-Habakkuk-Jonah-Micah ...\n",
      "   |      |     0.00s book Obadiah              with 392 slots\n",
      "   |      |     0.00s book Nahum                with 746 slots\n",
      "   |      |     0.00s book Haggai               with 877 slots\n",
      "   |      |     0.01s book Habakkuk             with 897 slots\n",
      "   |      |     0.01s book Jonah                with 985 slots\n",
      "   |      |     0.01s book Micah                with 1895 slots\n",
      "   |     0.02s volume Obadiah-Nahum-Haggai-Habakkuk-Jonah-Micah with 5792 slots and    21779 nodes ...\n",
      "   |     0.02s volume Malachi-Joel ...\n",
      "   |      |     0.00s book Malachi              with 1187 slots\n",
      "   |      |     0.00s book Joel                 with 1318 slots\n",
      "   |     0.03s volume Malachi-Joel         with 2505 slots and     9495 nodes ...\n",
      "   |     0.03s volume Ezra ...\n",
      "   |      |     0.00s book Ezra                 with 5268 slots\n",
      "   |     0.05s volume Ezra                 with 5268 slots and    17286 nodes ...\n",
      "  0.24s distribution done\n",
      "  0.24s Remap features ...\n",
      "   |     0.00s volume Obadiah-Nahum-Haggai-Habakkuk-Jonah-Micah with    21779 nodes ...\n",
      "   |     0.57s volume Malachi-Joel with     9495 nodes ...\n",
      "   |     0.81s volume Ezra with    17286 nodes ...\n",
      "  1.42s remapping done\n",
      "  1.42s Write TF datasets per volume\n",
      "   |     0.00s Writing volume Obadiah---Micah          = Obadiah-Nahum-Haggai-Habakkuk-Jonah-Micah\n",
      "   |     0.75s Writing volume Malachi-Joel             = Malachi-Joel\n",
      "   |     1.25s Writing volume Ezra                     = Ezra\n",
      "  3.39s writing done\n",
      "  3.39s All done\n"
     ]
    }
   ],
   "source": [
    "volumes = extract(SOURCE, TARGET, volumes=PARTS, api=api, overwrite=True)"
   ]
  },
  {
   "cell_type": "markdown",
   "id": "fac97f25-064d-4862-bef3-5051d2d78e76",
   "metadata": {},
   "source": [
    "# Checkout the volumes\n",
    "\n",
    "The `extract()` function returns basic information about the volumes:\n",
    "\n",
    "* long name (all books in the volume)\n",
    "* short name (used to name its directory on disk)\n",
    "* location of the volume dataset on the filesystem"
   ]
  },
  {
   "cell_type": "code",
   "execution_count": 14,
   "id": "c76da6a8-1cab-472c-bd97-74c2c54e931f",
   "metadata": {},
   "outputs": [
    {
     "name": "stdout",
     "output_type": "stream",
     "text": [
      "volume Obadiah---Micah          at ~/github/etcbc/bhsa/_local/tf/2021/Obadiah---Micah\n",
      "volume Malachi-Joel             at ~/github/etcbc/bhsa/_local/tf/2021/Malachi-Joel\n",
      "volume Ezra                     at ~/github/etcbc/bhsa/_local/tf/2021/Ezra\n"
     ]
    }
   ],
   "source": [
    "for v in volumes:\n",
    "    print(f\"volume {v[1]:<24} at {unexpanduser(v[2])}\")"
   ]
  },
  {
   "cell_type": "markdown",
   "id": "950e7590-4d2f-452e-8e73-bfec74ab5948",
   "metadata": {},
   "source": [
    "# Load all volumes\n",
    "\n",
    "We use the result of the `extract()` function to find and load all volumes.\n",
    "\n",
    "We now get one TF-api handle per volume.\n",
    "\n",
    "## totalMap\n",
    "\n",
    "Note that each volume has an extra feature: `totalMap`. The value for each node in the volume dataset\n",
    "is the corresponding node in the complete dataset from which the volume is taken.\n",
    "\n",
    "If you use the volume dataset to compute annotations, and you want to publish these annotations against the complete dataset, the feature `totalMap` provides the necessary information to do so.\n",
    "\n",
    "Suppose `annotvx` is a dict mapping the some nodes in the dataset of volume `x` to interesting values, then you apply them to the big dataset as follows\n",
    "\n",
    "``` python\n",
    "\n",
    "{F.totalMap.v(n): value for (n, value) in annotvx.items}\n",
    "```"
   ]
  },
  {
   "cell_type": "code",
   "execution_count": 15,
   "id": "87766eb7-f237-4f50-919f-6610f3627e64",
   "metadata": {},
   "outputs": [
    {
     "name": "stdout",
     "output_type": "stream",
     "text": [
      "  0.00s Loading all volumes\n",
      "  0.00s Obadiah-Nahum-Haggai-Habakkuk-Jonah-Micah\n",
      "  1.52s Malachi-Joel\n",
      "  2.19s Ezra\n",
      "  3.41s Done\n"
     ]
    }
   ],
   "source": [
    "TFs = {}\n",
    "apis = {}\n",
    "TF.indent(reset=True)\n",
    "TF.info(\"Loading all volumes\")\n",
    "for (longName, name, loc) in volumes:\n",
    "    TF.info(longName)\n",
    "    TFs[longName] = Fabric(locations=loc, silent=True)\n",
    "    apis[longName] = TFs[longName].loadAll(silent=\"deep\")\n",
    "TF.info(\"Done\")"
   ]
  },
  {
   "cell_type": "markdown",
   "id": "d20874d8-2092-4aea-9127-cf1ced41092a",
   "metadata": {},
   "source": [
    "# Combine volumes\n",
    "\n",
    "We can combine volumes by means of the `combine()` function"
   ]
  },
  {
   "cell_type": "code",
   "execution_count": 16,
   "id": "3ce20da4-0489-4ca0-805d-2d77e138f318",
   "metadata": {},
   "outputs": [
    {
     "data": {
      "text/plain": [
       "('Obadiah---Micah', 'Malachi-Joel', 'Ezra')"
      ]
     },
     "execution_count": 16,
     "metadata": {},
     "output_type": "execute_result"
    }
   ],
   "source": [
    "vNames = tuple(v[1] for v in volumes)\n",
    "vNames"
   ]
  },
  {
   "cell_type": "code",
   "execution_count": 19,
   "id": "3df3273c-1b0b-4b88-9d9b-1f6b89b7aeba",
   "metadata": {},
   "outputs": [
    {
     "name": "stdout",
     "output_type": "stream",
     "text": [
      "  0.00s inspect metadata ...\n",
      "  0.00s Loading volume Ezra from ~/github/etcbc/bhsa/_local/tf/2021/Ezra ...\n",
      "This is Text-Fabric 8.5.14\n",
      "Api reference : https://annotation.github.io/text-fabric/tf/cheatsheet.html\n",
      "\n",
      "115 features found and 0 ignored\n",
      "  0.00s loading features ...\n",
      "   |     0.00s Dataset without structure sections in otext:no structure functions in the T-API\n",
      "  0.07s All features loaded/computed - for details use TF.loadLog()\n",
      "   |     0.00s Feature overview: 110 for nodes; 4 for edges; 1 configs; 8 computed\n",
      "  0.00s loading features ...\n",
      "  0.08s All additional features loaded - for details use TF.loadLog()\n",
      "  0.71s Loading volume Malachi-Joel from ~/github/etcbc/bhsa/_local/tf/2021/Malachi-Joel ...\n",
      "This is Text-Fabric 8.5.14\n",
      "Api reference : https://annotation.github.io/text-fabric/tf/cheatsheet.html\n",
      "\n",
      "115 features found and 0 ignored\n",
      "  0.00s loading features ...\n",
      "   |     0.00s Dataset without structure sections in otext:no structure functions in the T-API\n",
      "  0.05s All features loaded/computed - for details use TF.loadLog()\n",
      "   |     0.00s Feature overview: 110 for nodes; 4 for edges; 1 configs; 8 computed\n",
      "  0.00s loading features ...\n",
      "  0.05s All additional features loaded - for details use TF.loadLog()\n",
      "  0.83s Loading volume Obadiah---Micah from ~/github/etcbc/bhsa/_local/tf/2021/Obadiah---Micah ...\n",
      "This is Text-Fabric 8.5.14\n",
      "Api reference : https://annotation.github.io/text-fabric/tf/cheatsheet.html\n",
      "\n",
      "115 features found and 0 ignored\n",
      "  0.00s loading features ...\n",
      "   |     0.00s Dataset without structure sections in otext:no structure functions in the T-API\n",
      "  0.08s All features loaded/computed - for details use TF.loadLog()\n",
      "   |     0.00s Feature overview: 110 for nodes; 4 for edges; 1 configs; 8 computed\n",
      "  0.00s loading features ...\n",
      "  0.09s All additional features loaded - for details use TF.loadLog()\n",
      "  1.01s metadata sorted out\n",
      "  1.01s check nodetypes ...\n",
      "   |     0.00s volume Ezra\n",
      "   |     0.00s volume Malachi-Joel\n",
      "   |     0.00s volume Obadiah---Micah\n",
      "  1.01s node types ok\n",
      "  1.01s Collect nodes from volumes ...\n",
      "   |      |     0.00s Ezra: slots\n",
      "   |      |     0.00s Malachi-Joel: slots\n",
      "   |      |     0.00s Obadiah---Micah: slots\n",
      "   |      |     0.01s Ezra: grouping other nodes by type\n",
      "   |      |     0.01s Malachi-Joel: grouping other nodes by type\n",
      "   |      |     0.01s Obadiah---Micah: grouping other nodes by type\n",
      "   |     0.02s mapping nodes ...\n",
      "   |     0.03s The combined set has 48560 nodes of which 13565 slots\n",
      "  1.05s collection done\n",
      "  1.05s remap features ...\n",
      "  2.03s remapping done\n",
      "  2.03s write TF data ...\n",
      "  3.40s writing done\n",
      "  3.40s done\n"
     ]
    },
    {
     "data": {
      "text/plain": [
       "True"
      ]
     },
     "execution_count": 19,
     "metadata": {},
     "output_type": "execute_result"
    }
   ],
   "source": [
    "combine(\n",
    "    tuple((v, f\"{TARGET}/{v}\") for v in vNames),\n",
    "    f\"{TARGET}/bible\",\n",
    "    overwrite=True,\n",
    "    silent=False,\n",
    ")"
   ]
  },
  {
   "cell_type": "markdown",
   "id": "17566e38-ba25-42b1-a17a-d242c2082b11",
   "metadata": {},
   "source": [
    "Let's see what we have got:"
   ]
  },
  {
   "cell_type": "code",
   "execution_count": 20,
   "id": "3f27d926-f4d5-4f14-b895-2a4cc577c8bf",
   "metadata": {},
   "outputs": [
    {
     "name": "stdout",
     "output_type": "stream",
     "text": [
      "This is Text-Fabric 8.5.14\n",
      "Api reference : https://annotation.github.io/text-fabric/tf/cheatsheet.html\n",
      "\n",
      "116 features found and 0 ignored\n",
      "  0.00s loading features ...\n",
      "   |     0.02s T otype                from ~/github/etcbc/bhsa/_local/tf/2021/bible\n",
      "   |     0.20s T oslots               from ~/github/etcbc/bhsa/_local/tf/2021/bible\n",
      "   |     0.00s Dataset without structure sections in otext:no structure functions in the T-API\n",
      "   |     0.03s T g_cons_utf8          from ~/github/etcbc/bhsa/_local/tf/2021/bible\n",
      "   |     0.00s T book@am              from ~/github/etcbc/bhsa/_local/tf/2021/bible\n",
      "   |     0.00s T book@ru              from ~/github/etcbc/bhsa/_local/tf/2021/bible\n",
      "   |     0.03s T lex_utf8             from ~/github/etcbc/bhsa/_local/tf/2021/bible\n",
      "   |     0.03s T g_lex_utf8           from ~/github/etcbc/bhsa/_local/tf/2021/bible\n",
      "   |     0.00s T qere_trailer_utf8    from ~/github/etcbc/bhsa/_local/tf/2021/bible\n",
      "   |     0.00s T book@bn              from ~/github/etcbc/bhsa/_local/tf/2021/bible\n",
      "   |     0.00s T book@yo              from ~/github/etcbc/bhsa/_local/tf/2021/bible\n",
      "   |     0.00s T book@el              from ~/github/etcbc/bhsa/_local/tf/2021/bible\n",
      "   |     0.03s T g_lex                from ~/github/etcbc/bhsa/_local/tf/2021/bible\n",
      "   |     0.00s T verse                from ~/github/etcbc/bhsa/_local/tf/2021/bible\n",
      "   |     0.00s T book@hi              from ~/github/etcbc/bhsa/_local/tf/2021/bible\n",
      "   |     0.04s T voc_lex_utf8         from ~/github/etcbc/bhsa/_local/tf/2021/bible\n",
      "   |     0.00s T book@la              from ~/github/etcbc/bhsa/_local/tf/2021/bible\n",
      "   |     0.03s T lex                  from ~/github/etcbc/bhsa/_local/tf/2021/bible\n",
      "   |     0.00s T book@ar              from ~/github/etcbc/bhsa/_local/tf/2021/bible\n",
      "   |     0.00s T book                 from ~/github/etcbc/bhsa/_local/tf/2021/bible\n",
      "   |     0.00s T chapter              from ~/github/etcbc/bhsa/_local/tf/2021/bible\n",
      "   |     0.00s T qere                 from ~/github/etcbc/bhsa/_local/tf/2021/bible\n",
      "   |     0.00s T book@tr              from ~/github/etcbc/bhsa/_local/tf/2021/bible\n",
      "   |     0.00s T book@id              from ~/github/etcbc/bhsa/_local/tf/2021/bible\n",
      "   |     0.00s T book@nl              from ~/github/etcbc/bhsa/_local/tf/2021/bible\n",
      "   |     0.00s T book@ur              from ~/github/etcbc/bhsa/_local/tf/2021/bible\n",
      "   |     0.00s T book@fr              from ~/github/etcbc/bhsa/_local/tf/2021/bible\n",
      "   |     0.00s T book@fa              from ~/github/etcbc/bhsa/_local/tf/2021/bible\n",
      "   |     0.00s T book@de              from ~/github/etcbc/bhsa/_local/tf/2021/bible\n",
      "   |     0.03s T g_word               from ~/github/etcbc/bhsa/_local/tf/2021/bible\n",
      "   |     0.00s T book@he              from ~/github/etcbc/bhsa/_local/tf/2021/bible\n",
      "   |     0.00s T book@sw              from ~/github/etcbc/bhsa/_local/tf/2021/bible\n",
      "   |     0.02s T trailer              from ~/github/etcbc/bhsa/_local/tf/2021/bible\n",
      "   |     0.03s T g_cons               from ~/github/etcbc/bhsa/_local/tf/2021/bible\n",
      "   |     0.03s T g_word_utf8          from ~/github/etcbc/bhsa/_local/tf/2021/bible\n",
      "   |     0.00s T qere_trailer         from ~/github/etcbc/bhsa/_local/tf/2021/bible\n",
      "   |     0.00s T book@syc             from ~/github/etcbc/bhsa/_local/tf/2021/bible\n",
      "   |     0.00s T qere_utf8            from ~/github/etcbc/bhsa/_local/tf/2021/bible\n",
      "   |     0.00s T book@zh              from ~/github/etcbc/bhsa/_local/tf/2021/bible\n",
      "   |     0.03s T trailer_utf8         from ~/github/etcbc/bhsa/_local/tf/2021/bible\n",
      "   |     0.00s T book@da              from ~/github/etcbc/bhsa/_local/tf/2021/bible\n",
      "   |     0.00s T book@pt              from ~/github/etcbc/bhsa/_local/tf/2021/bible\n",
      "   |     0.00s T book@ja              from ~/github/etcbc/bhsa/_local/tf/2021/bible\n",
      "   |     0.00s T book@en              from ~/github/etcbc/bhsa/_local/tf/2021/bible\n",
      "   |     0.00s T book@pa              from ~/github/etcbc/bhsa/_local/tf/2021/bible\n",
      "   |     0.00s T book@ko              from ~/github/etcbc/bhsa/_local/tf/2021/bible\n",
      "   |     0.00s T book@es              from ~/github/etcbc/bhsa/_local/tf/2021/bible\n",
      "   |      |     0.03s C __levels__           from otype, oslots, otext\n",
      "   |      |     0.51s C __order__            from otype, oslots, __levels__\n",
      "   |      |     0.02s C __rank__             from otype, __order__\n",
      "   |      |     0.39s C __levUp__            from otype, oslots, __rank__\n",
      "   |      |     0.24s C __levDown__          from otype, __levUp__, __rank__\n",
      "   |      |     0.08s C __boundary__         from otype, oslots, __rank__\n",
      "   |      |     0.00s C __sections__         from otype, oslots, otext, __levUp__, __levels__, book, chapter, verse\n",
      "  1.91s All features loaded/computed - for details use TF.loadLog()\n",
      "   |     0.00s Feature overview: 111 for nodes; 4 for edges; 1 configs; 8 computed\n",
      "  0.00s loading features ...\n",
      "   |     0.00s T code                 from ~/github/etcbc/bhsa/_local/tf/2021/bible\n",
      "   |     0.03s T det                  from ~/github/etcbc/bhsa/_local/tf/2021/bible\n",
      "   |     0.03s T dist                 from ~/github/etcbc/bhsa/_local/tf/2021/bible\n",
      "   |     0.04s T dist_unit            from ~/github/etcbc/bhsa/_local/tf/2021/bible\n",
      "   |     0.07s T distributional_parent from ~/github/etcbc/bhsa/_local/tf/2021/bible\n",
      "   |     0.01s T domain               from ~/github/etcbc/bhsa/_local/tf/2021/bible\n",
      "   |     0.03s T freq_lex             from ~/github/etcbc/bhsa/_local/tf/2021/bible\n",
      "   |     0.02s T freq_occ             from ~/github/etcbc/bhsa/_local/tf/2021/bible\n",
      "   |     0.02s T function             from ~/github/etcbc/bhsa/_local/tf/2021/bible\n",
      "   |     0.11s T functional_parent    from ~/github/etcbc/bhsa/_local/tf/2021/bible\n",
      "   |     0.02s T g_nme                from ~/github/etcbc/bhsa/_local/tf/2021/bible\n",
      "   |     0.02s T g_nme_utf8           from ~/github/etcbc/bhsa/_local/tf/2021/bible\n",
      "   |     0.02s T g_pfm                from ~/github/etcbc/bhsa/_local/tf/2021/bible\n",
      "   |     0.02s T g_pfm_utf8           from ~/github/etcbc/bhsa/_local/tf/2021/bible\n",
      "   |     0.02s T g_prs                from ~/github/etcbc/bhsa/_local/tf/2021/bible\n",
      "   |     0.02s T g_prs_utf8           from ~/github/etcbc/bhsa/_local/tf/2021/bible\n",
      "   |     0.02s T g_uvf                from ~/github/etcbc/bhsa/_local/tf/2021/bible\n",
      "   |     0.02s T g_uvf_utf8           from ~/github/etcbc/bhsa/_local/tf/2021/bible\n",
      "   |     0.02s T g_vbe                from ~/github/etcbc/bhsa/_local/tf/2021/bible\n",
      "   |     0.02s T g_vbe_utf8           from ~/github/etcbc/bhsa/_local/tf/2021/bible\n",
      "   |     0.02s T g_vbs                from ~/github/etcbc/bhsa/_local/tf/2021/bible\n",
      "   |     0.02s T g_vbs_utf8           from ~/github/etcbc/bhsa/_local/tf/2021/bible\n",
      "   |     0.01s T gloss                from ~/github/etcbc/bhsa/_local/tf/2021/bible\n",
      "   |     0.03s T gn                   from ~/github/etcbc/bhsa/_local/tf/2021/bible\n",
      "   |     0.01s T instruction          from ~/github/etcbc/bhsa/_local/tf/2021/bible\n",
      "   |     0.01s T is_root              from ~/github/etcbc/bhsa/_local/tf/2021/bible\n",
      "   |     0.01s T kind                 from ~/github/etcbc/bhsa/_local/tf/2021/bible\n",
      "   |     0.02s T kq_hybrid            from ~/github/etcbc/bhsa/_local/tf/2021/bible\n",
      "   |     0.02s T kq_hybrid_utf8       from ~/github/etcbc/bhsa/_local/tf/2021/bible\n",
      "   |     0.01s T label                from ~/github/etcbc/bhsa/_local/tf/2021/bible\n",
      "   |     0.03s T language             from ~/github/etcbc/bhsa/_local/tf/2021/bible\n",
      "   |     0.03s T languageISO          from ~/github/etcbc/bhsa/_local/tf/2021/bible\n",
      "   |     0.03s T lex0                 from ~/github/etcbc/bhsa/_local/tf/2021/bible\n",
      "   |     0.02s T lexeme_count         from ~/github/etcbc/bhsa/_local/tf/2021/bible\n",
      "   |     0.03s T ls                   from ~/github/etcbc/bhsa/_local/tf/2021/bible\n",
      "   |     0.02s T mother               from ~/github/etcbc/bhsa/_local/tf/2021/bible\n",
      "   |     0.02s T mother_object_type   from ~/github/etcbc/bhsa/_local/tf/2021/bible\n",
      "   |     0.01s T nametype             from ~/github/etcbc/bhsa/_local/tf/2021/bible\n",
      "   |     0.03s T nme                  from ~/github/etcbc/bhsa/_local/tf/2021/bible\n",
      "   |     0.03s T nu                   from ~/github/etcbc/bhsa/_local/tf/2021/bible\n",
      "   |     0.05s T number               from ~/github/etcbc/bhsa/_local/tf/2021/bible\n",
      "   |     0.01s T pargr                from ~/github/etcbc/bhsa/_local/tf/2021/bible\n",
      "   |     0.03s T pdp                  from ~/github/etcbc/bhsa/_local/tf/2021/bible\n",
      "   |     0.03s T pfm                  from ~/github/etcbc/bhsa/_local/tf/2021/bible\n",
      "   |     0.03s T prs                  from ~/github/etcbc/bhsa/_local/tf/2021/bible\n",
      "   |     0.03s T prs_gn               from ~/github/etcbc/bhsa/_local/tf/2021/bible\n",
      "   |     0.03s T prs_nu               from ~/github/etcbc/bhsa/_local/tf/2021/bible\n",
      "   |     0.03s T prs_ps               from ~/github/etcbc/bhsa/_local/tf/2021/bible\n",
      "   |     0.03s T ps                   from ~/github/etcbc/bhsa/_local/tf/2021/bible\n",
      "   |     0.02s T rank_lex             from ~/github/etcbc/bhsa/_local/tf/2021/bible\n",
      "   |     0.02s T rank_occ             from ~/github/etcbc/bhsa/_local/tf/2021/bible\n",
      "   |     0.05s T rela                 from ~/github/etcbc/bhsa/_local/tf/2021/bible\n",
      "   |     0.01s T root                 from ~/github/etcbc/bhsa/_local/tf/2021/bible\n",
      "   |     0.03s T sp                   from ~/github/etcbc/bhsa/_local/tf/2021/bible\n",
      "   |     0.03s T st                   from ~/github/etcbc/bhsa/_local/tf/2021/bible\n",
      "   |     0.03s T suffix_gender        from ~/github/etcbc/bhsa/_local/tf/2021/bible\n",
      "   |     0.03s T suffix_number        from ~/github/etcbc/bhsa/_local/tf/2021/bible\n",
      "   |     0.03s T suffix_person        from ~/github/etcbc/bhsa/_local/tf/2021/bible\n",
      "   |     0.00s T tab                  from ~/github/etcbc/bhsa/_local/tf/2021/bible\n",
      "   |     0.07s T totalMap             from ~/github/etcbc/bhsa/_local/tf/2021/bible\n",
      "   |     0.01s T txt                  from ~/github/etcbc/bhsa/_local/tf/2021/bible\n",
      "   |     0.04s T typ                  from ~/github/etcbc/bhsa/_local/tf/2021/bible\n",
      "   |     0.03s T uvf                  from ~/github/etcbc/bhsa/_local/tf/2021/bible\n",
      "   |     0.03s T vbe                  from ~/github/etcbc/bhsa/_local/tf/2021/bible\n",
      "   |     0.03s T vbs                  from ~/github/etcbc/bhsa/_local/tf/2021/bible\n",
      "   |     0.03s T voc_lex              from ~/github/etcbc/bhsa/_local/tf/2021/bible\n",
      "   |     0.10s T volumeMap            from ~/github/etcbc/bhsa/_local/tf/2021/bible\n",
      "   |     0.03s T vs                   from ~/github/etcbc/bhsa/_local/tf/2021/bible\n",
      "   |     0.03s T vt                   from ~/github/etcbc/bhsa/_local/tf/2021/bible\n",
      "  1.88s All additional features loaded - for details use TF.loadLog()\n"
     ]
    },
    {
     "data": {
      "text/plain": [
       "[('Computed',\n",
       "  'computed-data',\n",
       "  ('C Computed', 'Call AllComputeds', 'Cs ComputedString')),\n",
       " ('Features', 'edge-features', ('E Edge', 'Eall AllEdges', 'Es EdgeString')),\n",
       " ('Fabric', 'loading', ('TF',)),\n",
       " ('Locality', 'locality', ('L Locality',)),\n",
       " ('Nodes', 'navigating-nodes', ('N Nodes',)),\n",
       " ('Features',\n",
       "  'node-features',\n",
       "  ('F Feature', 'Fall AllFeatures', 'Fs FeatureString')),\n",
       " ('Search', 'search', ('S Search',)),\n",
       " ('Text', 'text', ('T Text',))]"
      ]
     },
     "execution_count": 20,
     "metadata": {},
     "output_type": "execute_result"
    }
   ],
   "source": [
    "TF = Fabric(locations=f\"{TARGET}/bible\")\n",
    "api = TF.loadAll(silent=False)\n",
    "api.makeAvailableIn(globals())"
   ]
  },
  {
   "cell_type": "markdown",
   "id": "c1ace7d0-8217-4c06-9701-6d9ce3032e43",
   "metadata": {},
   "source": [
    "Which books have we got?"
   ]
  },
  {
   "cell_type": "code",
   "execution_count": 21,
   "id": "1a84a494-aaed-4850-8d01-61f66217094d",
   "metadata": {},
   "outputs": [
    {
     "name": "stdout",
     "output_type": "stream",
     "text": [
      "Ezra\n",
      "Joel\n",
      "Malachi\n",
      "Obadiah\n",
      "Jonah\n",
      "Micah\n",
      "Nahum\n",
      "Habakkuk\n",
      "Haggai\n"
     ]
    }
   ],
   "source": [
    "for b in F.otype.s(\"book\"):\n",
    "    print(T.sectionFromNode(b)[0])"
   ]
  },
  {
   "cell_type": "code",
   "execution_count": 22,
   "id": "144ab67c-40aa-44c6-80a7-82a01021de4f",
   "metadata": {},
   "outputs": [
    {
     "data": {
      "text/plain": [
       "'XZWN <BDJH KH&>MR >DNJ JHWH L>DWM CMW<H CM<NW M>T JHWH WYJR BGWJM CLX QWMW WNQWMH <LJH LMLXMH00 HNH QVN NTTJK BGWJM BZWJ >TH M>D00 ZDWN LBK HCJ>K CKNJ BXGWJ&SL< MRWM CBTW >MR BLBW MJ JWRDNJ >RY00 >M&TGBJH KNCR W>M&BJN KWKBJM FJM QNK MCM >WRJDK N>M&JHWH00 >M&GNBJM B>W&LK >M&CWDDJ LJLH >JK NDMJTH HLW> JGNBW DJM >M&BYRJM B>W LK HLW> JC>JRW <LLWT00 >JK NXPFW <FW NB<W MYPNJW00 <D&HGBWL CLXWK KL >NCJ BRJTK HCJ>WK JKLW LK >NCJ CLMK LXMK JFJMW MZWR TXTJK >JN TBWNH BW00 HLW> BJWM HHW> N>M JHWH WH>BDTJ XKMJM M>DWM WTBWNH MHR <FW00 WXTW GBWRJK TJMN LM<N JKRT&>JC MHR <FW MQVL00 MXMS >XJK J<QB TKSK BWCH WNKRT L<WLM00 BJWM <MDK MNGD BJWM CBWT ZRJM XJLW WNKRJM B>W C<RW W<L&JRWCLM JDW GWRL GM&>TH K>XD MHM00 W>L&TR> BJWM&>XJK BJWM NKRW W>L&TFMX LBNJ&JHWDH BJWM >BDM W>L&TGDL PJK BJWM YRH00 >L&TBW> BC<R&<MJ BJWM >JDM >L&TR> GM&>TH BR<TW BJWM >JDW W>L&TCLXNH BXJLW BJWM >JDW00 W>L&T<MD <L&HPRQ LHKRJT >T&PLJVJW W>L&TSGR FRJDJW BJWM YRH00 KJ&QRWB JWM&JHWH <L&KL&HGWJM K>CR <FJT J<FH LK GMLK JCWB BR>CK00 KJ K>CR CTJTM <L&HR QDCJ JCTW KL&HGWJM TMJD WCTW WL<W WHJW KLW> HJW00 WBHR YJWN THJH PLJVH WHJH QDC WJRCW BJT J<QB >T MWRCJHM00 WHJH BJT&J<QB >C WBJT JWSP LHBH WBJT <FW LQC WDLQW BHM W>KLWM WL>&JHJH FRJD LBJT <FW KJ JHWH DBR00 WJRCW HNGB >T&HR <FW WHCPLH >T&PLCTJM WJRCW >T&FDH >PRJM W>T FDH CMRWN WBNJMN >T&HGL<D00 WGLT HXL&HZH LBNJ JFR>L >CR&KN<NJM <D&YRPT WGLT JRWCLM >CR BSPRD JRCW >T <RJ HNGB00 W<LW MWC<JM BHR YJWN LCPV >T&HR <FW WHJTH LJHWH HMLWKH00 '"
      ]
     },
     "execution_count": 22,
     "metadata": {},
     "output_type": "execute_result"
    }
   ],
   "source": [
    "b = T.nodeFromSection((\"Obadiah\",))\n",
    "T.text(b, fmt=\"text-trans-plain\")"
   ]
  }
 ],
 "metadata": {
  "kernelspec": {
   "display_name": "Python 3 (ipykernel)",
   "language": "python",
   "name": "python3"
  },
  "language_info": {
   "codemirror_mode": {
    "name": "ipython",
    "version": 3
   },
   "file_extension": ".py",
   "mimetype": "text/x-python",
   "name": "python",
   "nbconvert_exporter": "python",
   "pygments_lexer": "ipython3",
   "version": "3.9.5"
  },
  "widgets": {
   "application/vnd.jupyter.widget-state+json": {
    "state": {},
    "version_major": 2,
    "version_minor": 0
   }
  }
 },
 "nbformat": 4,
 "nbformat_minor": 5
}
